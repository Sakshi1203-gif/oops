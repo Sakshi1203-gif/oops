{
  "nbformat": 4,
  "nbformat_minor": 0,
  "metadata": {
    "colab": {
      "provenance": []
    },
    "kernelspec": {
      "name": "python3",
      "display_name": "Python 3"
    },
    "language_info": {
      "name": "python"
    }
  },
  "cells": [
    {
      "cell_type": "code",
      "execution_count": null,
      "metadata": {
        "id": "J7fijZo4tkvT"
      },
      "outputs": [],
      "source": []
    },
    {
      "cell_type": "markdown",
      "source": [
        "1. What is Object-Oriented Programming (OOP)\n",
        "\n",
        "-Object-Oriented Programming (OOP) is a programming paradigm that organizes software design around objects rather than functions or logic. In OOP, objects are instances of classes, and they represent real-world entities or abstract concepts. This approach promotes code reusability, modularity, and maintainability by organizing code into self-contained units."
      ],
      "metadata": {
        "id": "DDf3WCdiuOew"
      }
    },
    {
      "cell_type": "markdown",
      "source": [
        "2. What is a class in OOP\n",
        "\n",
        "-in Object-Oriented Programming (OOP), a class is a blueprint or template for creating objects (instances). It defines a set of properties (often called attributes) and behaviors (often called methods) that the objects created from the class will have."
      ],
      "metadata": {
        "id": "y2HoZo5yuZyh"
      }
    },
    {
      "cell_type": "markdown",
      "source": [
        "3.What is an object in OOP\n",
        "\n",
        "-In Object-Oriented Programming (OOP), an object is an instance of a class. It is a self-contained entity that has attributes (data) and methods (functions or behaviors). When you create an object from a class, you're essentially creating a specific instance that follows the blueprint (class) but has its own unique state."
      ],
      "metadata": {
        "id": "VtmI0rJrupqx"
      }
    },
    {
      "cell_type": "markdown",
      "source": [
        "4.What is the difference between abstraction and encapsulation\n",
        "\n",
        "- Abstraction deals with hiding complexity and exposing only the necessary details to the user.\n",
        "\n",
        "\n",
        "- Encapsulation involves protecting an object's internal state and ensuring that data is accessed or modified in a controlled manner.\n",
        "\n"
      ],
      "metadata": {
        "id": "J3kUrBB-u64C"
      }
    },
    {
      "cell_type": "markdown",
      "source": [
        "5.What are dunder methods in Python\n",
        "\n",
        "-Dunder methods (short for double underscore methods) in Python are special methods that have double underscores at the beginning and end of their names. These methods are also known as magic methods or special methods. They are used to define how objects behave in certain situations, such as when they are used in arithmetic operations, printed, or compared."
      ],
      "metadata": {
        "id": "SVjG-bp4viQx"
      }
    },
    {
      "cell_type": "markdown",
      "source": [
        "6.Explain the concept of inheritance in OOP\n",
        "\n",
        "-Inheritance is one of the fundamental principles of Object-Oriented Programming (OOP). It allows a class (called a subclass or child class) to inherit attributes and methods from another class (called a superclass or parent class). This enables code reuse and the creation of a class hierarchy, where more specialized classes can build upon general ones."
      ],
      "metadata": {
        "id": "TKtEyXgqvxMm"
      }
    },
    {
      "cell_type": "markdown",
      "source": [
        "7.What is polymorphism in OOP\n",
        "\n",
        "-Polymorphism is a core concept in Object-Oriented Programming (OOP) that allows different classes to be treated as instances of the same class through a common interface. More specifically, it allows objects of different types to be accessed through the same interface, often leading to behavior that can change depending on the object type. The term \"polymorphism\" means \"many forms\", which reflects how a single action can have different implementations depending on the context."
      ],
      "metadata": {
        "id": "EXjDBLqmv81E"
      }
    },
    {
      "cell_type": "markdown",
      "source": [
        "8.How is encapsulation achieved in Python\n",
        "\n",
        "-Encapsulation is one of the core principles of Object-Oriented Programming (OOP), and it refers to the bundling of data (attributes) and methods that operate on that data within a single unit or class. It also involves restricting access to certain details of the class to protect the internal state and ensure that objects are used only in the intended way. This is typically done by using access modifiers to control the visibility and modification of attributes and methods.\n"
      ],
      "metadata": {
        "id": "RXCtmDpcwLHC"
      }
    },
    {
      "cell_type": "markdown",
      "source": [
        "9.What is a constructor in Python\n",
        "\n",
        "-In Python, the constructor (__init__()) is a special method that initializes objects when they are created. It sets up the initial state of an object by assigning values to its attributes. While the constructor doesn't return anything (i.e., it returns None implicitly), it allows us to define the initial configuration of an object when it is created."
      ],
      "metadata": {
        "id": "VC2Qyxmcwb9P"
      }
    },
    {
      "cell_type": "markdown",
      "source": [
        "10.What are class and static methods in Python\n",
        "\n",
        "-Class Methods are used for operations that relate to the class itself and often modify class-level attributes. They take the class (cls) as their first argument.\n",
        "\n",
        "\n",
        "-Static Methods are independent of the class or instance. They don't access or modify class or instance attributes and are typically used for utility functions related to the class."
      ],
      "metadata": {
        "id": "o8IH1ztqwpSl"
      }
    },
    {
      "cell_type": "markdown",
      "source": [
        "11.What is method overloading in Python\n",
        "\n",
        "-In Python, method overloading is not supported directly in the way it is in languages like Java or C++. Python doesn't allow you to define multiple methods with the same name and differentiate them by their argument types or number. However, Python provides flexibility in how you can achieve similar functionality by using default arguments, variable-length arguments (*args, **kwargs), or manually checking the arguments inside a method."
      ],
      "metadata": {
        "id": "SO6Jkhy7w9y7"
      }
    },
    {
      "cell_type": "markdown",
      "source": [
        "12.What is method overriding in OOP\n",
        "\n",
        "-Method overriding is a concept in Object-Oriented Programming (OOP) where a subclass provides a specific implementation for a method that is already defined in its superclass. The method in the subclass has the same name, same parameters, and same return type as the method in the superclass, but it performs a different operation or behavior."
      ],
      "metadata": {
        "id": "w257oE9JxS3d"
      }
    },
    {
      "cell_type": "markdown",
      "source": [
        "13.What is a property decorator in Python\n",
        "\n",
        "-In Python, a property decorator is used to define a method as a \"getter\" for a class attribute, allowing you to access the method as though it were a regular attribute without explicitly calling it. It provides a way to create computed attributes that can be accessed like regular attributes, but with additional logic behind the scenes."
      ],
      "metadata": {
        "id": "ZOz0rJZMxe6a"
      }
    },
    {
      "cell_type": "markdown",
      "source": [
        "14.Why is polymorphism important in OOP\n",
        "\n",
        "-Polymorphism is important in OOP because it enables:\n",
        "\n",
        "- Flexibility: Handling objects of different types in a consistent way.\n",
        "\n",
        "- Code Reusability: Generalizing code to work with any subclass of a superclass.\n",
        "\n",
        "    \n",
        "- Maintainability: Making it easier to extend and modify code without breaking existing functionality.\n",
        "\n",
        "- Decoupling: Reducing dependencies between components, making code more modular.\n",
        "\n",
        "- Dynamic Behavior: Allowing method calls to be resolved at runtime based on object type.\n",
        "\n",
        "- Simplified Interfaces: Providing a cleaner, more abstract interface for interacting with objects.\n",
        "\n",
        "- Real-World Modeling: Representing real-world concepts more naturally."
      ],
      "metadata": {
        "id": "L8ySwkEyy4tm"
      }
    },
    {
      "cell_type": "markdown",
      "source": [
        "15.What is an abstract class in Python\n",
        "\n",
        "-An abstract class in Python is a class that cannot be instantiated directly and is meant to be subclassed by other classes. It serves as a blueprint for other classes and may include abstract methods—methods that are declared but contain no implementation in the abstract class itself. Subclasses that inherit from an abstract class are required to implement these abstract methods, ensuring that they provide their own specific behavior."
      ],
      "metadata": {
        "id": "sMTS9rOlzgHZ"
      }
    },
    {
      "cell_type": "markdown",
      "source": [
        "16.What are the advantages of OOP\n",
        "\n",
        "-Object-Oriented Programming (OOP) is a widely adopted programming paradigm that organizes software design around data, or objects, rather than functions and logic. It has several advantages that make it particularly effective for managing large, complex systems"
      ],
      "metadata": {
        "id": "3-jko1btztnY"
      }
    },
    {
      "cell_type": "markdown",
      "source": [
        "17.What is the difference between a class variable and an instance variable\n",
        "\n",
        "-Class variables are shared across all instances of a class and are typically used for data that should be common to every instance (e.g., default values, constants, or counters).\n",
        "\n",
        "-Instance variables are unique to each instance of the class and are used for storing data that differs between instances (e.g., individual attributes like names or ages)."
      ],
      "metadata": {
        "id": "3O1V2ZOu0Dkb"
      }
    },
    {
      "cell_type": "markdown",
      "source": [
        "18.What is multiple inheritance in Python\n",
        "\n",
        "-Multiple inheritance in Python is a feature where a class can inherit from more than one parent class. This allows a class to inherit attributes and methods from multiple base classes, making it more flexible and powerful in terms of reusing code and building complex systems."
      ],
      "metadata": {
        "id": "Y4jjJ7Ks0WD4"
      }
    },
    {
      "cell_type": "markdown",
      "source": [
        "19.Explain the purpose of ‘’__str__’ and ‘__repr__’ ‘ methods in Python\n",
        "\n",
        "-__str__ Output: When you print the object or use str(), the output is \"2020 Toyota Corolla\", which is a user-friendly, readable format of the object.\n",
        "\n",
        "-__repr__ Output: When you use repr(), you get a more formal string \"Car('Toyota', 'Corolla', 2020)\", which is typically used for debugging or recreating the object."
      ],
      "metadata": {
        "id": "Abqzy9qU0jBc"
      }
    },
    {
      "cell_type": "markdown",
      "source": [
        "20. What is the significance of the ‘super()’ function in Python\n",
        "\n",
        "-The super() function in Python is used to call methods from a parent class (superclass) in a derived class (subclass). It allows a child class to call methods from its parent class in a way that ensures proper method resolution, especially in the context of multiple inheritance, and it supports code reuse and the extension of functionality."
      ],
      "metadata": {
        "id": "eHvQ6Vzu0-QM"
      }
    },
    {
      "cell_type": "markdown",
      "source": [
        "21.What is the significance of the __del__ method in Python\n",
        "\n",
        "-The __del__ method in Python is a special method (also known as a destructor) that is automatically called when an object is about to be destroyed. This happens when the object’s reference count drops to zero, meaning that no other part of the program is using it. The __del__ method allows an object to clean up resources, such as closing files, releasing network connections, or deallocating memory, before it is removed from memory."
      ],
      "metadata": {
        "id": "APUFPAsj1JNF"
      }
    },
    {
      "cell_type": "markdown",
      "source": [
        "22.What is the difference between @staticmethod and @classmethod in Python\n",
        "\n",
        "-@staticmethod: A method that does not depend on class or instance attributes. It is used for utility functions that logically belong to a class but don't need access to its state.\n",
        "\n",
        "-@classmethod: A method that takes the class itself as the first argument (cls). It is used when you need to interact with or modify the class state, or when you want to define factory methods."
      ],
      "metadata": {
        "id": "Kk2pNY_T1Wlw"
      }
    },
    {
      "cell_type": "markdown",
      "source": [
        "23.How does polymorphism work in Python with inheritance\n",
        "\n",
        "-Polymorphism in Python, especially in the context of inheritance, refers to the ability of different classes to provide their own implementation of methods that are defined in a common parent class. This means that a single method can behave differently depending on the object (or class) that is calling it. It enables objects of different classes to be treated as objects of a common base class, even though they may exhibit different behaviors (via method overriding)."
      ],
      "metadata": {
        "id": "suhvR2sQ1qgp"
      }
    },
    {
      "cell_type": "markdown",
      "source": [
        "24.What is method chaining in Python OOP\n",
        "\n",
        "-Method chaining in Python OOP allows multiple method calls to be linked together in a single statement, improving readability and conciseness. It is implemented by ensuring that each method in the chain returns the object itself (or another object that supports method calls). It is commonly used for operations like setting multiple attributes or performing multiple actions on the same object."
      ],
      "metadata": {
        "id": "jislzE2H11AI"
      }
    },
    {
      "cell_type": "markdown",
      "source": [
        "25.What is the purpose of the __call__ method in Python\n",
        "\n",
        "-The __call__ method allows an instance of a class to be called as if it were a function.\n",
        "This is achieved by implementing the __call__ method within the class.\n",
        "It is useful for creating function-like objects that can retain state or implement custom behavior when invoked.\n",
        "Common use cases include creating function-like objects, implementing callbacks or event handlers, creating decorators, and designing higher-order functions."
      ],
      "metadata": {
        "id": "aPDJJzQj2DoP"
      }
    },
    {
      "cell_type": "markdown",
      "source": [
        "**Practical Questions**"
      ],
      "metadata": {
        "id": "sq9k9rxd2bm-"
      }
    },
    {
      "cell_type": "markdown",
      "source": [
        "1. Create a parent class Animal with a method speak() that prints a generic message. Create a child class Dog\n",
        "that overrides the speak() method to print \"Bark!\"."
      ],
      "metadata": {
        "id": "idzahXx02jPt"
      }
    },
    {
      "cell_type": "code",
      "source": [
        "# Parent class\n",
        "class Animal:\n",
        "    def speak(self):\n",
        "        print(\"Some generic animal sound.\")\n",
        "\n",
        "# Child class that inherits from Animal\n",
        "class Dog(Animal):\n",
        "    def speak(self):\n",
        "        print(\"Bark!\")\n",
        "\n",
        "# Create an instance of Animal\n",
        "animal = Animal()\n",
        "animal.speak()  # Output: Some generic animal sound.\n",
        "\n",
        "# Create an instance of Dog\n",
        "dog = Dog()\n",
        "dog.speak()  # Output: Bark!\n"
      ],
      "metadata": {
        "colab": {
          "base_uri": "https://localhost:8080/"
        },
        "id": "pkfvcU-qvv6Q",
        "outputId": "ddf6f5df-4c19-4989-e257-692bdcee31a0"
      },
      "execution_count": 2,
      "outputs": [
        {
          "output_type": "stream",
          "name": "stdout",
          "text": [
            "Some generic animal sound.\n",
            "Bark!\n"
          ]
        }
      ]
    },
    {
      "cell_type": "markdown",
      "source": [
        "2.Write a program to create an abstract class Shape with a method area(). Derive classes Circle and Rectangle\n",
        "from it and implement the area() method in both.\n",
        "\n",
        "\n"
      ],
      "metadata": {
        "id": "BlR3tx_R28o_"
      }
    },
    {
      "cell_type": "code",
      "source": [
        "from abc import ABC, abstractmethod\n",
        "import math\n",
        "\n",
        "# Abstract class\n",
        "class Shape(ABC):\n",
        "    @abstractmethod\n",
        "    def area(self):\n",
        "        pass\n",
        "\n",
        "# Derived class: Circle\n",
        "class Circle(Shape):\n",
        "    def __init__(self, radius):\n",
        "        self.radius = radius\n",
        "\n",
        "    def area(self):\n",
        "        return math.pi * self.radius ** 2  # Area of a circle: π * r^2\n",
        "\n",
        "# Derived class: Rectangle\n",
        "class Rectangle(Shape):\n",
        "    def __init__(self, width, height):\n",
        "        self.width = width\n",
        "        self.height = height\n",
        "\n",
        "    def area(self):\n",
        "        return self.width * self.height  # Area of a rectangle: width * height\n",
        "\n",
        "# Test the classes\n",
        "circle = Circle(5)\n",
        "rectangle = Rectangle(4, 6)\n",
        "\n",
        "print(f\"Area of circle: {circle.area():.2f}\")  # Output: Area of circle: 78.54\n",
        "print(f\"Area of rectangle: {rectangle.area()}\")  # Output: Area of rectangle: 24\n"
      ],
      "metadata": {
        "colab": {
          "base_uri": "https://localhost:8080/"
        },
        "id": "wQ4ek3Zf26r2",
        "outputId": "ee9a44ff-df51-438f-d1e8-afe566e5cacc"
      },
      "execution_count": 3,
      "outputs": [
        {
          "output_type": "stream",
          "name": "stdout",
          "text": [
            "Area of circle: 78.54\n",
            "Area of rectangle: 24\n"
          ]
        }
      ]
    },
    {
      "cell_type": "markdown",
      "source": [
        "3.Implement a multi-level inheritance scenario where a class Vehicle has an attribute type. Derive a class Car\n",
        "and further derive a class ElectricCar that adds a battery attribute"
      ],
      "metadata": {
        "id": "pZHrBvEk3Tv-"
      }
    },
    {
      "cell_type": "code",
      "source": [
        "# Base class: Vehicle\n",
        "class Vehicle:\n",
        "    def __init__(self, vehicle_type):\n",
        "        self.vehicle_type = vehicle_type  # Vehicle type (e.g., car, bike, etc.)\n",
        "\n",
        "    def display_type(self):\n",
        "        print(f\"This is a {self.vehicle_type}.\")\n",
        "\n",
        "# Derived class: Car\n",
        "class Car(Vehicle):\n",
        "    def __init__(self, vehicle_type, make, model):\n",
        "        super().__init__(vehicle_type)  # Initialize the parent class (Vehicle)\n",
        "        self.make = make  # Brand or make of the car\n",
        "        self.model = model  # Model of the car\n",
        "\n",
        "    def display_info(self):\n",
        "        print(f\"Car Make: {self.make}, Model: {self.model}\")\n",
        "        self.display_type()  # Calling the method from the parent class\n",
        "\n",
        "# Further derived class: ElectricCar\n",
        "class ElectricCar(Car):\n",
        "    def __init__(self, vehicle_type, make, model, battery_capacity):\n",
        "        super().__init__(vehicle_type, make, model)  # Initialize the parent class (Car)\n",
        "        self.battery_capacity = battery_capacity  # Battery capacity in kWh\n",
        "\n",
        "    def display_battery(self):\n",
        "        print(f\"Battery Capacity: {self.battery_capacity} kWh\")\n",
        "\n",
        "# Creating instances and testing\n",
        "vehicle = Vehicle(\"Vehicle\")\n",
        "vehicle.display_type()  # Output: This is a Vehicle.\n",
        "\n",
        "car = Car(\"Car\", \"Toyota\", \"Corolla\")\n",
        "car.display_info()\n",
        "# Output:\n",
        "# Car Make: Toyota, Model: Corolla\n",
        "# This is a Car.\n",
        "\n",
        "electric_car = ElectricCar(\"Electric Car\", \"Tesla\", \"Model S\", 75)\n",
        "electric_car.display_info()\n",
        "# Output:\n",
        "# Car Make: Tesla, Model: Model S\n",
        "# This is a Electric Car.\n",
        "electric_car.display_battery()\n",
        "# Output: Battery Capacity: 75 kWh\n"
      ],
      "metadata": {
        "colab": {
          "base_uri": "https://localhost:8080/"
        },
        "id": "3FQGwM993ZCR",
        "outputId": "2ae27e3d-9470-4c8c-8e73-6a0a6a44656f"
      },
      "execution_count": 4,
      "outputs": [
        {
          "output_type": "stream",
          "name": "stdout",
          "text": [
            "This is a Vehicle.\n",
            "Car Make: Toyota, Model: Corolla\n",
            "This is a Car.\n",
            "Car Make: Tesla, Model: Model S\n",
            "This is a Electric Car.\n",
            "Battery Capacity: 75 kWh\n"
          ]
        }
      ]
    },
    {
      "cell_type": "markdown",
      "source": [
        "4.4. Implement a multi-level inheritance scenario where a class Vehicle has an attribute type. Derive a class Car\n",
        "and further derive a class ElectricCar that adds a battery attribute."
      ],
      "metadata": {
        "id": "1TwjNaJA3gr_"
      }
    },
    {
      "cell_type": "code",
      "source": [
        "# Base class: Vehicle\n",
        "class Vehicle:\n",
        "    def __init__(self, vehicle_type):\n",
        "        self.vehicle_type = vehicle_type  # Vehicle type (e.g., car, bike, etc.)\n",
        "\n",
        "    def display_type(self):\n",
        "        print(f\"This is a {self.vehicle_type}.\")\n",
        "\n",
        "# Derived class: Car\n",
        "class Car(Vehicle):\n",
        "    def __init__(self, vehicle_type, make, model):\n",
        "        super().__init__(vehicle_type)  # Initialize the parent class (Vehicle)\n",
        "        self.make = make  # Brand or make of the car\n",
        "        self.model = model  # Model of the car\n",
        "\n",
        "    def display_info(self):\n",
        "        print(f\"Car Make: {self.make}, Model: {self.model}\")\n",
        "        self.display_type()  # Calling the method from the parent class\n",
        "\n",
        "# Further derived class: ElectricCar\n",
        "class ElectricCar(Car):\n",
        "    def __init__(self, vehicle_type, make, model, battery_capacity):\n",
        "        super().__init__(vehicle_type, make, model)  # Initialize the parent class (Car)\n",
        "        self.battery_capacity = battery_capacity  # Battery capacity in kWh\n",
        "\n",
        "    def display_battery(self):\n",
        "        print(f\"Battery Capacity: {self.battery_capacity} kWh\")\n",
        "\n",
        "# Creating instances and testing\n",
        "vehicle = Vehicle(\"Vehicle\")\n",
        "vehicle.display_type()  # Output: This is a Vehicle.\n",
        "\n",
        "car = Car(\"Car\", \"Toyota\", \"Corolla\")\n",
        "car.display_info()\n",
        "# Output:\n",
        "# Car Make: Toyota, Model: Corolla\n",
        "# This is a Car.\n",
        "\n",
        "electric_car = ElectricCar(\"Electric Car\", \"Tesla\", \"Model S\", 75)\n",
        "electric_car.display_info()\n",
        "# Output:\n",
        "# Car Make: Tesla, Model: Model S\n",
        "# This is a Electric Car.\n",
        "electric_car.display_battery()\n",
        "# Output: Battery Capacity: 75 kWh\n"
      ],
      "metadata": {
        "colab": {
          "base_uri": "https://localhost:8080/"
        },
        "id": "7gJyW8ZB3pRV",
        "outputId": "c40cdc64-4a8c-4009-eec1-189befe2022b"
      },
      "execution_count": 5,
      "outputs": [
        {
          "output_type": "stream",
          "name": "stdout",
          "text": [
            "This is a Vehicle.\n",
            "Car Make: Toyota, Model: Corolla\n",
            "This is a Car.\n",
            "Car Make: Tesla, Model: Model S\n",
            "This is a Electric Car.\n",
            "Battery Capacity: 75 kWh\n"
          ]
        }
      ]
    },
    {
      "cell_type": "markdown",
      "source": [
        "5. Write a program to demonstrate encapsulation by creating a class BankAccount with private attributes\n",
        "balance and methods to deposit, withdraw, and check balance."
      ],
      "metadata": {
        "id": "g_Nsj3k-34QG"
      }
    },
    {
      "cell_type": "code",
      "source": [
        "class BankAccount:\n",
        "    def __init__(self, initial_balance=0):\n",
        "        # Private attribute\n",
        "        self.__balance = initial_balance  # __balance is private\n",
        "\n",
        "    # Method to deposit money\n",
        "    def deposit(self, amount):\n",
        "        if amount > 0:\n",
        "            self.__balance += amount\n",
        "            print(f\"Deposited: {amount}\")\n",
        "        else:\n",
        "            print(\"Deposit amount must be positive.\")\n",
        "\n",
        "    # Method to withdraw money\n",
        "    def withdraw(self, amount):\n",
        "        if amount > 0 and amount <= self.__balance:\n",
        "            self.__balance -= amount\n",
        "            print(f\"Withdrew: {amount}\")\n",
        "        elif amount > self.__balance:\n",
        "            print(\"Insufficient funds.\")\n",
        "        else:\n",
        "            print(\"Withdrawal amount must be positive.\")\n",
        "\n",
        "    # Method to check balance\n",
        "    def check_balance(self):\n",
        "        return self.__balance\n",
        "\n",
        "# Create a BankAccount object\n",
        "account = BankAccount(1000)  # Initial balance is 1000\n",
        "\n",
        "# Check balance\n",
        "print(f\"Current Balance: {account.check_balance()}\")  # Output: 1000\n",
        "\n",
        "# Deposit money\n",
        "account.deposit(500)  # Depositing 500\n",
        "print(f\"New Balance: {account.check_balance()}\")  # Output: 1500\n",
        "\n",
        "# Withdraw money\n",
        "account.withdraw(300)  # Withdrawing 300\n",
        "print(f\"New Balance: {account.check_balance()}\")  # Output: 1200\n",
        "\n",
        "# Trying to withdraw more than balance\n",
        "account.withdraw(2000)  # Insufficient funds\n"
      ],
      "metadata": {
        "colab": {
          "base_uri": "https://localhost:8080/"
        },
        "id": "n7k3-OJK3ror",
        "outputId": "b481f19d-be30-487f-d4b4-c9a95fef98b3"
      },
      "execution_count": 6,
      "outputs": [
        {
          "output_type": "stream",
          "name": "stdout",
          "text": [
            "Current Balance: 1000\n",
            "Deposited: 500\n",
            "New Balance: 1500\n",
            "Withdrew: 300\n",
            "New Balance: 1200\n",
            "Insufficient funds.\n"
          ]
        }
      ]
    },
    {
      "cell_type": "markdown",
      "source": [
        "6. Demonstrate runtime polymorphism using a method play() in a base class Instrument. Derive classes Guitar\n",
        "and Piano that implement their own version of play()."
      ],
      "metadata": {
        "id": "zNsE61gf4DCp"
      }
    },
    {
      "cell_type": "code",
      "source": [
        "# Base class\n",
        "class Instrument:\n",
        "    def play(self):\n",
        "        print(\"Playing an instrument.\")\n",
        "\n",
        "# Derived class: Guitar\n",
        "class Guitar(Instrument):\n",
        "    def play(self):\n",
        "        print(\"Strumming the guitar.\")\n",
        "\n",
        "# Derived class: Piano\n",
        "class Piano(Instrument):\n",
        "    def play(self):\n",
        "        print(\"Playing the piano keys.\")\n",
        "\n",
        "# Function to demonstrate runtime polymorphism\n",
        "def demonstrate_play(instrument):\n",
        "    instrument.play()\n",
        "\n",
        "# Test the polymorphism\n",
        "guitar = Guitar()\n",
        "piano = Piano()\n",
        "\n",
        "# Demonstrate runtime polymorphism by passing different objects to the same function\n",
        "demonstrate_play(guitar)  # Output: Strumming the guitar.\n",
        "demonstrate_play(piano)   # Output: Playing the piano keys.\n"
      ],
      "metadata": {
        "colab": {
          "base_uri": "https://localhost:8080/"
        },
        "id": "dNmxSR2T4ANu",
        "outputId": "0f2bb7d8-c77d-455e-ac9e-ad1acc00e802"
      },
      "execution_count": 7,
      "outputs": [
        {
          "output_type": "stream",
          "name": "stdout",
          "text": [
            "Strumming the guitar.\n",
            "Playing the piano keys.\n"
          ]
        }
      ]
    },
    {
      "cell_type": "markdown",
      "source": [
        "7. Create a class MathOperations with a class method add_numbers() to add two numbers and a static\n",
        "method subtract_numbers() to subtract two numbers."
      ],
      "metadata": {
        "id": "8oi0EYEs4P1D"
      }
    },
    {
      "cell_type": "code",
      "source": [
        "class MathOperations:\n",
        "    @classmethod\n",
        "    def add_numbers(cls, num1, num2):\n",
        "        return num1 + num2\n",
        "\n",
        "    @staticmethod\n",
        "    def subtract_numbers(num1, num2):\n",
        "        return num1 - num2\n",
        "\n",
        "# Using the class method to add numbers\n",
        "result_add = MathOperations.add_numbers(10, 5)\n",
        "print(f\"Addition Result: {result_add}\")  # Output: Addition Result: 15\n",
        "\n",
        "# Using the static method to subtract numbers\n",
        "result_subtract = MathOperations.subtract_numbers(10, 5)\n",
        "print(f\"Subtraction Result: {result_subtract}\")  # Output: Subtraction Result: 5\n"
      ],
      "metadata": {
        "colab": {
          "base_uri": "https://localhost:8080/"
        },
        "id": "i7AXAEZ14UAo",
        "outputId": "4c16aa15-8de7-411e-84cf-d134bd5396ec"
      },
      "execution_count": 8,
      "outputs": [
        {
          "output_type": "stream",
          "name": "stdout",
          "text": [
            "Addition Result: 15\n",
            "Subtraction Result: 5\n"
          ]
        }
      ]
    },
    {
      "cell_type": "markdown",
      "source": [
        "8. Implement a class Person with a class method to count the total number of persons created.\n",
        "\n",
        "\n"
      ],
      "metadata": {
        "id": "QRo4bZ5I4cih"
      }
    },
    {
      "cell_type": "code",
      "source": [
        "class Person:\n",
        "    # Class variable to count instances\n",
        "    total_persons = 0\n",
        "\n",
        "    def __init__(self, name, age):\n",
        "        self.name = name  # Instance variable for name\n",
        "        self.age = age    # Instance variable for age\n",
        "\n",
        "        # Increment the total_persons class variable every time a new object is created\n",
        "        Person.total_persons += 1\n",
        "\n",
        "    # Class method to get the total number of Person instances created\n",
        "    @classmethod\n",
        "    def count_persons(cls):\n",
        "        return cls.total_persons\n",
        "\n",
        "\n",
        "# Create instances of the Person class\n",
        "person1 = Person(\"Alice\", 30)\n",
        "person2 = Person(\"Bob\", 25)\n",
        "person3 = Person(\"Charlie\", 35)\n",
        "\n",
        "# Call the class method to count the total number of Person instances\n",
        "print(f\"Total persons created: {Person.count_persons()}\")  # Output: Total persons created: 3\n"
      ],
      "metadata": {
        "colab": {
          "base_uri": "https://localhost:8080/"
        },
        "id": "mpfCgMcw4aQ9",
        "outputId": "4c76c557-067a-4bd8-ad4a-3042ab8547c0"
      },
      "execution_count": 9,
      "outputs": [
        {
          "output_type": "stream",
          "name": "stdout",
          "text": [
            "Total persons created: 3\n"
          ]
        }
      ]
    },
    {
      "cell_type": "markdown",
      "source": [
        "9. Write a class Fraction with attributes numerator and denominator. Override the str method to display the\n",
        "fraction as \"numerator/denominator\"."
      ],
      "metadata": {
        "id": "ulLPKMR64wC_"
      }
    },
    {
      "cell_type": "code",
      "source": [
        "class Fraction:\n",
        "    def __init__(self, numerator, denominator):\n",
        "        # Initialize the numerator and denominator attributes\n",
        "        self.numerator = numerator\n",
        "        self.denominator = denominator\n",
        "\n",
        "    # Override the __str__ method to display the fraction as \"numerator/denominator\"\n",
        "    def __str__(self):\n",
        "        return f\"{self.numerator}/{self.denominator}\"\n",
        "\n",
        "# Create instances of the Fraction class\n",
        "fraction1 = Fraction(3, 4)\n",
        "fraction2 = Fraction(5, 8)\n",
        "\n",
        "# Print the fractions using the overridden __str__ method\n",
        "print(fraction1)  # Output: 3/4\n",
        "print(fraction2)  # Output: 5/8\n"
      ],
      "metadata": {
        "colab": {
          "base_uri": "https://localhost:8080/"
        },
        "id": "kHl6GJ8W4pxJ",
        "outputId": "66f2cc1b-88ac-440f-9a4d-192371ff0a4d"
      },
      "execution_count": 10,
      "outputs": [
        {
          "output_type": "stream",
          "name": "stdout",
          "text": [
            "3/4\n",
            "5/8\n"
          ]
        }
      ]
    },
    {
      "cell_type": "markdown",
      "source": [
        "10. Demonstrate operator overloading by creating a class Vector and overriding the add method to add two\n",
        "vectors."
      ],
      "metadata": {
        "id": "RgVw-Scm5AK8"
      }
    },
    {
      "cell_type": "code",
      "source": [
        "class Vector:\n",
        "    def __init__(self, x, y):\n",
        "        self.x = x  # x-coordinate of the vector\n",
        "        self.y = y  # y-coordinate of the vector\n",
        "\n",
        "    # Overloading the + operator to add two vectors\n",
        "    def __add__(self, other):\n",
        "        # Adding corresponding components of the vectors\n",
        "        if isinstance(other, Vector):\n",
        "            return Vector(self.x + other.x, self.y + other.y)\n",
        "        else:\n",
        "            raise TypeError(\"Operands must be of type 'Vector'\")\n",
        "\n",
        "    # For representing the vector in a readable way (e.g., for printing)\n",
        "    def __str__(self):\n",
        "        return f\"({self.x}, {self.y})\"\n",
        "\n",
        "# Create instances of Vector\n",
        "vector1 = Vector(2, 3)\n",
        "vector2 = Vector(4, 1)\n",
        "\n",
        "# Add the two vectors using the overloaded + operator\n",
        "result_vector = vector1 + vector2\n",
        "\n",
        "# Print the result\n",
        "print(f\"Vector 1: {vector1}\")\n",
        "print(f\"Vector 2: {vector2}\")\n",
        "print(f\"Result of adding vectors: {result_vector}\")\n"
      ],
      "metadata": {
        "colab": {
          "base_uri": "https://localhost:8080/"
        },
        "id": "KPSqvDOf4469",
        "outputId": "e5a184e5-6caf-4ea4-ad7d-bfb63c4aec3e"
      },
      "execution_count": 11,
      "outputs": [
        {
          "output_type": "stream",
          "name": "stdout",
          "text": [
            "Vector 1: (2, 3)\n",
            "Vector 2: (4, 1)\n",
            "Result of adding vectors: (6, 4)\n"
          ]
        }
      ]
    },
    {
      "cell_type": "markdown",
      "source": [
        "11. Create a class Person with attributes name and age. Add a method greet() that prints \"Hello, my name is\n",
        "{name} and I am {age} years old."
      ],
      "metadata": {
        "id": "HWYN02oW5G2s"
      }
    },
    {
      "cell_type": "code",
      "source": [
        "class Person:\n",
        "    def __init__(self, name, age):\n",
        "        # Initialize the attributes for name and age\n",
        "        self.name = name\n",
        "        self.age = age\n",
        "\n",
        "    # Method to greet and introduce the person\n",
        "    def greet(self):\n",
        "        print(f\"Hello, my name is {self.name} and I am {self.age} years old.\")\n",
        "\n",
        "# Create an instance of the Person class\n",
        "person1 = Person(\"Alice\", 30)\n",
        "\n",
        "# Call the greet method to display the greeting\n",
        "person1.greet()  # Output: Hello, my name is Alice and I am 30 years old.\n",
        "\n",
        "# Another instance of the Person class\n",
        "person2 = Person(\"Bob\", 25)\n",
        "\n",
        "# Call the greet method for the second person\n",
        "person2.greet()  # Output: Hello, my name is Bob and I am 25 years old.\n"
      ],
      "metadata": {
        "colab": {
          "base_uri": "https://localhost:8080/"
        },
        "id": "1rSZTf6-5E4_",
        "outputId": "77641961-f13e-41de-c1a1-4db0bd223c31"
      },
      "execution_count": 12,
      "outputs": [
        {
          "output_type": "stream",
          "name": "stdout",
          "text": [
            "Hello, my name is Alice and I am 30 years old.\n",
            "Hello, my name is Bob and I am 25 years old.\n"
          ]
        }
      ]
    },
    {
      "cell_type": "markdown",
      "source": [
        "12. Implement a class Student with attributes name and grades. Create a method average_grade() to compute\n",
        "the average of the grades."
      ],
      "metadata": {
        "id": "emcPkz5B5T9q"
      }
    },
    {
      "cell_type": "code",
      "source": [
        "class Student:\n",
        "    def __init__(self, name, grades):\n",
        "        # Initialize the attributes for name and grades\n",
        "        self.name = name\n",
        "        self.grades = grades  # grades should be a list of numbers (e.g., [90, 85, 88])\n",
        "\n",
        "    # Method to compute the average of grades\n",
        "    def average_grade(self):\n",
        "        if not self.grades:  # Check if the grades list is empty\n",
        "            return 0  # Return 0 if no grades are present\n",
        "        return sum(self.grades) / len(self.grades)\n",
        "\n",
        "# Create an instance of the Student class\n",
        "student1 = Student(\"Alice\", [90, 85, 88, 92, 87])\n",
        "\n",
        "# Call the average_grade method to compute and print the average\n",
        "print(f\"{student1.name}'s average grade: {student1.average_grade():.2f}\")\n",
        "\n",
        "# Another instance of the Student class\n",
        "student2 = Student(\"Bob\", [78, 82, 74, 88, 85])\n",
        "\n",
        "# Call the average_grade method for the second student\n",
        "print(f\"{student2.name}'s average grade: {student2.average_grade():.2f}\")\n"
      ],
      "metadata": {
        "colab": {
          "base_uri": "https://localhost:8080/"
        },
        "id": "DOlYDNPb5PRO",
        "outputId": "c6e88983-28f4-4821-fb02-a798e6d92473"
      },
      "execution_count": 13,
      "outputs": [
        {
          "output_type": "stream",
          "name": "stdout",
          "text": [
            "Alice's average grade: 88.40\n",
            "Bob's average grade: 81.40\n"
          ]
        }
      ]
    },
    {
      "cell_type": "markdown",
      "source": [
        "13. Create a class Rectangle with methods set_dimensions() to set the dimensions and area() to calculate the\n",
        "area."
      ],
      "metadata": {
        "id": "-V3f93HI5ePM"
      }
    },
    {
      "cell_type": "code",
      "source": [
        "class Rectangle:\n",
        "    def __init__(self):\n",
        "        # Initialize the dimensions of the rectangle\n",
        "        self.length = 0\n",
        "        self.width = 0\n",
        "\n",
        "    # Method to set the dimensions (length and width)\n",
        "    def set_dimensions(self, length, width):\n",
        "        self.length = length\n",
        "        self.width = width\n",
        "\n",
        "    # Method to calculate the area of the rectangle\n",
        "    def area(self):\n",
        "        return self.length * self.width\n",
        "\n",
        "# Create an instance of the Rectangle class\n",
        "rect = Rectangle()\n",
        "\n",
        "# Set the dimensions of the rectangle\n",
        "rect.set_dimensions(5, 3)\n",
        "\n",
        "# Calculate and print the area\n",
        "print(f\"The area of the rectangle is: {rect.area()}\")  # Output: The area of the rectangle is: 15\n"
      ],
      "metadata": {
        "colab": {
          "base_uri": "https://localhost:8080/"
        },
        "id": "6lmfREKf5XfW",
        "outputId": "41f74a42-725e-45a9-adfc-e040f9930b05"
      },
      "execution_count": 14,
      "outputs": [
        {
          "output_type": "stream",
          "name": "stdout",
          "text": [
            "The area of the rectangle is: 15\n"
          ]
        }
      ]
    },
    {
      "cell_type": "markdown",
      "source": [
        "14. Create a class Employee with a method calculate_salary() that computes the salary based on hours worked\n",
        "and hourly rate. Create a derived class Manager that adds a bonus to the salary"
      ],
      "metadata": {
        "id": "mUR5MDHV5kr2"
      }
    },
    {
      "cell_type": "code",
      "source": [
        "# Base class Employee\n",
        "class Employee:\n",
        "    def __init__(self, name, hours_worked, hourly_rate):\n",
        "        self.name = name  # Employee's name\n",
        "        self.hours_worked = hours_worked  # Number of hours worked\n",
        "        self.hourly_rate = hourly_rate  # Hourly rate for the employee\n",
        "\n",
        "    # Method to calculate salary based on hours worked and hourly rate\n",
        "    def calculate_salary(self):\n",
        "        return self.hours_worked * self.hourly_rate\n",
        "\n",
        "# Derived class Manager\n",
        "class Manager(Employee):\n",
        "    def __init__(self, name, hours_worked, hourly_rate, bonus):\n",
        "        # Initialize the parent class (Employee)\n",
        "        super().__init__(name, hours_worked, hourly_rate)\n",
        "        self.bonus = bonus  # Bonus for the manager\n",
        "\n",
        "    # Override the calculate_salary method to add the bonus\n",
        "    def calculate_salary(self):\n",
        "        base_salary = super().calculate_salary()  # Get base salary from Employee class\n",
        "        return base_salary + self.bonus  # Add the bonus to the base salary\n",
        "\n",
        "# Create an instance of Employee\n",
        "employee = Employee(\"John\", 40, 20)  # 40 hours worked, $20/hour\n",
        "print(f\"{employee.name}'s salary: ${employee.calculate_salary()}\")  # Output: $800\n",
        "\n",
        "# Create an instance of Manager\n",
        "manager = Manager(\"Alice\", 40, 25, 500)  # 40 hours worked, $25/hour, $500 bonus\n",
        "print(f\"{manager.name}'s salary: ${manager.calculate_salary()}\")  # Output: $1500\n"
      ],
      "metadata": {
        "colab": {
          "base_uri": "https://localhost:8080/"
        },
        "id": "KwFrOhr25i4K",
        "outputId": "38026549-94e1-4843-d9b8-ee6ff12eaec0"
      },
      "execution_count": 15,
      "outputs": [
        {
          "output_type": "stream",
          "name": "stdout",
          "text": [
            "John's salary: $800\n",
            "Alice's salary: $1500\n"
          ]
        }
      ]
    },
    {
      "cell_type": "markdown",
      "source": [
        "15. Create a class Product with attributes name, price, and quantity. Implement a method total_price() that\n",
        "calculates the total price of the product."
      ],
      "metadata": {
        "id": "Um-FMXsN5vfe"
      }
    },
    {
      "cell_type": "code",
      "source": [
        "class Product:\n",
        "    def __init__(self, name, price, quantity):\n",
        "        self.name = name\n",
        "        self.price = price\n",
        "        self.quantity = quantity\n",
        "\n",
        "    def total_price(self):\n",
        "        return self.price * self.quantity\n",
        "\n",
        "# Example usage:\n",
        "product = Product(\"Laptop\", 1000, 3)\n",
        "print(f\"Total price for {product.name}: ${product.total_price()}\")\n"
      ],
      "metadata": {
        "colab": {
          "base_uri": "https://localhost:8080/"
        },
        "id": "D0HoLKRn5toF",
        "outputId": "80a5a532-1a52-4e7d-b10a-795a6d49a7ee"
      },
      "execution_count": 16,
      "outputs": [
        {
          "output_type": "stream",
          "name": "stdout",
          "text": [
            "Total price for Laptop: $3000\n"
          ]
        }
      ]
    },
    {
      "cell_type": "markdown",
      "source": [
        "16. Create a class Animal with an abstract method sound(). Create two derived classes Cow and Sheep that\n",
        "implement the sound() method."
      ],
      "metadata": {
        "id": "UwbSTDgd6MFb"
      }
    },
    {
      "cell_type": "code",
      "source": [
        "from abc import ABC, abstractmethod\n",
        "\n",
        "# Abstract base class\n",
        "class Animal(ABC):\n",
        "    @abstractmethod\n",
        "    def sound(self):\n",
        "        pass\n",
        "\n",
        "# Derived class Cow\n",
        "class Cow(Animal):\n",
        "    def sound(self):\n",
        "        return \"Moo\"\n",
        "\n",
        "# Derived class Sheep\n",
        "class Sheep(Animal):\n",
        "    def sound(self):\n",
        "        return \"Baa\"\n",
        "\n",
        "# Example usage\n",
        "cow = Cow()\n",
        "sheep = Sheep()\n",
        "\n",
        "print(f\"Cow sound: {cow.sound()}\")\n",
        "print(f\"Sheep sound: {sheep.sound()}\")\n"
      ],
      "metadata": {
        "colab": {
          "base_uri": "https://localhost:8080/"
        },
        "id": "YnSE4CZ66Ku6",
        "outputId": "94c8f6bb-b161-4dd5-fcce-774429058044"
      },
      "execution_count": 17,
      "outputs": [
        {
          "output_type": "stream",
          "name": "stdout",
          "text": [
            "Cow sound: Moo\n",
            "Sheep sound: Baa\n"
          ]
        }
      ]
    },
    {
      "cell_type": "markdown",
      "source": [
        "17. Create a class Book with attributes title, author, and year_published. Add a method get_book_info() that\n",
        "returns a formatted string with the book's details."
      ],
      "metadata": {
        "id": "ZSg3b6y_6aG-"
      }
    },
    {
      "cell_type": "code",
      "source": [
        "class Book:\n",
        "    def __init__(self, title, author, year_published):\n",
        "        self.title = title\n",
        "        self.author = author\n",
        "        self.year_published = year_published\n",
        "\n",
        "    def get_book_info(self):\n",
        "        return f\"Title: {self.title}\\nAuthor: {self.author}\\nYear Published: {self.year_published}\"\n",
        "\n",
        "# Example usage\n",
        "book = Book(\"1984\", \"George Orwell\", 1949)\n",
        "print(book.get_book_info())\n"
      ],
      "metadata": {
        "colab": {
          "base_uri": "https://localhost:8080/"
        },
        "id": "jBC5OU7z6Trj",
        "outputId": "b09962aa-3462-4db8-ad59-f73dd42dd91d"
      },
      "execution_count": 18,
      "outputs": [
        {
          "output_type": "stream",
          "name": "stdout",
          "text": [
            "Title: 1984\n",
            "Author: George Orwell\n",
            "Year Published: 1949\n"
          ]
        }
      ]
    },
    {
      "cell_type": "markdown",
      "source": [
        "18. Create a class House with attributes address and price. Create a derived class Mansion that adds an\n",
        "attribute number_of_rooms."
      ],
      "metadata": {
        "id": "11Bgeyum6e5q"
      }
    },
    {
      "cell_type": "code",
      "source": [
        "# Base class House\n",
        "class House:\n",
        "    def __init__(self, address, price):\n",
        "        self.address = address\n",
        "        self.price = price\n",
        "\n",
        "    def get_house_info(self):\n",
        "        return f\"Address: {self.address}\\nPrice: ${self.price}\"\n",
        "\n",
        "# Derived class Mansion\n",
        "class Mansion(House):\n",
        "    def __init__(self, address, price, number_of_rooms):\n",
        "        # Call the constructor of the base class (House)\n",
        "        super().__init__(address, price)\n",
        "        self.number_of_rooms = number_of_rooms\n",
        "\n",
        "    def get_mansion_info(self):\n",
        "        # Combine house info and the additional number of rooms\n",
        "        house_info = self.get_house_info()\n",
        "        return f\"{house_info}\\nNumber of Rooms: {self.number_of_rooms}\"\n",
        "\n",
        "# Example usage\n",
        "house = House(\"123 Elm St, Springfield\", 250000)\n",
        "mansion = Mansion(\"456 Luxury Ave, Beverly Hills\", 5000000, 12)\n",
        "\n",
        "print(\"House Info:\\n\", house.get_house_info())\n",
        "print(\"\\nMansion Info:\\n\", mansion.get_mansion_info())\n"
      ],
      "metadata": {
        "colab": {
          "base_uri": "https://localhost:8080/"
        },
        "id": "ZsyXc8mz6dxd",
        "outputId": "f747ff1e-89c0-456d-efba-77e13c5c531b"
      },
      "execution_count": 19,
      "outputs": [
        {
          "output_type": "stream",
          "name": "stdout",
          "text": [
            "House Info:\n",
            " Address: 123 Elm St, Springfield\n",
            "Price: $250000\n",
            "\n",
            "Mansion Info:\n",
            " Address: 456 Luxury Ave, Beverly Hills\n",
            "Price: $5000000\n",
            "Number of Rooms: 12\n"
          ]
        }
      ]
    },
    {
      "cell_type": "code",
      "source": [],
      "metadata": {
        "id": "Qh8yhmMG6m9v"
      },
      "execution_count": null,
      "outputs": []
    }
  ]
}